{
 "cells": [
  {
   "cell_type": "markdown",
   "metadata": {},
   "source": [
    "# Introduction à Redis avec Python\n",
    "\n",
    "Ce notebook présente les concepts de base de Redis en utilisant Python."
   ]
  },
  {
   "cell_type": "code",
   "execution_count": null,
   "metadata": {},
   "source": [
    "import redis\n",
    "\n",
    "# Connexion à Redis\n",
    "r = redis.Redis(\n",
    "    host='redis',  # nom du service dans docker-compose\n",
    "    port=6379,\n",
    "    decode_responses=True  # Pour décoder automatiquement les bytes en str\n",
    ")"
   ]
  }
 ],
 "metadata": {
  "kernelspec": {
   "display_name": "Python 3",
   "language": "python",
   "name": "python3"
  }
 },
 "nbformat": 4,
 "nbformat_minor": 4
}
