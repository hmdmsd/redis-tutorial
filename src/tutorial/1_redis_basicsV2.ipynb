{
 "cells": [
  {
   "cell_type": "markdown",
   "metadata": {},
   "source": [
    "# Redis Basics Tutorial\n",
    "\n",
    "Introduction aux bases de Redis avec notre dataset de films."
   ]
  },
  {
   "cell_type": "markdown",
   "metadata": {},
   "source": [
    "## 1. Connexion à Redis"
   ]
  },
  {
   "cell_type": "code",
   "execution_count": null,
   "metadata": {},
   "outputs": [
    {
     "name": "stdout",
     "output_type": "stream",
     "text": [
      "Connection test: True\n"
     ]
    }
   ],
   "source": [
    "import sys\n",
    "sys.path.append('/home/jovyan/work')\n",
    "\n",
    "from pprint import pprint\n",
    "\n",
    "import redis\n",
    "\n",
    "# Connexion à Redis via un client Redis\n",
    "r = redis.Redis(host='redis', port=6379, db=0)\n",
    "\n",
    "# Tester la connexion\n",
    "print(\"Connection test:\", r.ping())"
   ]
  },
  {
   "cell_type": "markdown",
   "metadata": {},
   "source": [
    "## 2. Exploration globale de la db"
   ]
  },
  {
   "cell_type": "code",
   "execution_count": 10,
   "metadata": {},
   "outputs": [
    {
     "name": "stdout",
     "output_type": "stream",
     "text": [
      "Nombre total de clés dans Redis: 8354\n"
     ]
    }
   ],
   "source": [
    "num_keys = r.dbsize()\n",
    "print(f\"Nombre total de clés dans Redis: {num_keys}\")"
   ]
  },
  {
   "cell_type": "markdown",
   "metadata": {},
   "source": [
    "Comme la base de donnée contient un nombre raisonnable de clés, on peut récupérer toutes les clés et les parcourir rapidement."
   ]
  },
  {
   "cell_type": "code",
   "execution_count": null,
   "metadata": {},
   "outputs": [
    {
     "name": "stdout",
     "output_type": "stream",
     "text": [
      "Types d'objets dans Redis: {'theater', 'user', 'actor', 'movie'}\n"
     ]
    }
   ],
   "source": [
    "# Récupérer le type d'objet dans notre base de données\n",
    "\n",
    "keys = r.keys('*')  # Récupérer toutes les clés\n",
    "prefixes = set(key.decode('utf-8').split(':')[0] for key in keys)\n",
    "print(\"Types d'objets dans Redis:\", prefixes)"
   ]
  },
  {
   "cell_type": "code",
   "execution_count": null,
   "metadata": {},
   "outputs": [
    {
     "name": "stdout",
     "output_type": "stream",
     "text": [
      "Nombre d'objets par catégorie: {'theater': 117, 'user': 5996, 'actor': 1319, 'movie': 922}\n"
     ]
    }
   ],
   "source": [
    "# Récupérer le nombre d'objets par catégorie\n",
    "\n",
    "category_counts = {prefix: 0 for prefix in prefixes}\n",
    "\n",
    "for key in keys:\n",
    "    category = key.decode('utf-8').split(':')[0]\n",
    "    category_counts[category] += 1\n",
    "\n",
    "print(\"Nombre d'objets par catégorie:\", category_counts)"
   ]
  },
  {
   "cell_type": "markdown",
   "metadata": {},
   "source": [
    "Vérifier le type des clés"
   ]
  },
  {
   "cell_type": "code",
   "execution_count": null,
   "metadata": {},
   "outputs": [
    {
     "data": {
      "text/plain": [
       "[b'user:1421',\n",
       " b'user:137',\n",
       " b'user:1282',\n",
       " b'user:5183',\n",
       " b'user:4084',\n",
       " b'user:919',\n",
       " b'user:2539',\n",
       " b'user:1014',\n",
       " b'user:4418',\n",
       " b'movie:863']"
      ]
     },
     "execution_count": 17,
     "metadata": {},
     "output_type": "execute_result"
    }
   ],
   "source": [
    "# Récupérer les 10 premières clés\n",
    "\n",
    "r.keys('*')[:10]"
   ]
  },
  {
   "cell_type": "code",
   "execution_count": null,
   "metadata": {},
   "outputs": [
    {
     "name": "stdout",
     "output_type": "stream",
     "text": [
      "Type of 'user:1421': b'hash'\n",
      "Type of 'movie:863': b'hash'\n"
     ]
    }
   ],
   "source": [
    "# Pour connaître le type des clés dans la base de données \n",
    "\n",
    "key_type = r.type('user:1421')  # Vérifie le type de la clé"
   ]
  },
  {
   "cell_type": "markdown",
   "metadata": {},
   "source": [
    "## 3. Récupérer des données"
   ]
  },
  {
   "cell_type": "markdown",
   "metadata": {},
   "source": [
    "### Selon le type de la clé on choisit la bonne commande \n",
    "Pour un Hash, utilisez HGET ou HGETALL.\n",
    "Pour une Liste, utilisez LRANGE ou LPOP.\n",
    "Pour un Set, utilisez SMEMBERS.\n",
    "Pour un Sorted Set, utilisez ZRANGE. "
   ]
  },
  {
   "cell_type": "code",
   "execution_count": null,
   "metadata": {},
   "outputs": [],
   "source": [
    "# Vérifier si la clé existe\n",
    "\n",
    "r.exists('movie:1') == 1  # Renvoie 1 si la clé existe, 0 sinon"
   ]
  },
  {
   "cell_type": "code",
   "execution_count": null,
   "metadata": {},
   "outputs": [
    {
     "data": {
      "text/plain": [
       "b'New Title'"
      ]
     },
     "execution_count": 23,
     "metadata": {},
     "output_type": "execute_result"
    }
   ],
   "source": [
    "# Récupérer un champ spécifique d'un Hash\n",
    "\n",
    "r.hget('movie:1', 'title')"
   ]
  },
  {
   "cell_type": "code",
   "execution_count": null,
   "metadata": {},
   "outputs": [
    {
     "data": {
      "text/plain": [
       "[b'New Title', b'Action']"
      ]
     },
     "execution_count": 24,
     "metadata": {},
     "output_type": "execute_result"
    }
   ],
   "source": [
    "# Récupérer plusieurs champs d'un Hash\n",
    "\n",
    "r.hmget('movie:1', ['title', 'genre'])"
   ]
  },
  {
   "cell_type": "code",
   "execution_count": null,
   "metadata": {},
   "outputs": [],
   "source": [
    "# Récupérer tous les champs d'un Hash\n",
    "\n",
    "r.hgetall('movie:1')"
   ]
  },
  {
   "cell_type": "markdown",
   "metadata": {},
   "source": [
    "## 4. Ajouter et modifier des données\n",
    "\n",
    "HSET permet de:\n",
    "- ajouter une donnée (clé - valeur) à la db si la clé spécifiée n'existe pas\n",
    "- modifier une donnée si la clé spécifiée existe\n",
    "\n",
    "HSET renvoie 1 si une donnée a été créée, 0 si une donnée a été modifié"
   ]
  },
  {
   "cell_type": "code",
   "execution_count": null,
   "metadata": {},
   "outputs": [],
   "source": [
    "# Vérifier si la clé existe\n",
    "print(f\"Key exists: {r.exists('movie:1') == 1}\")\n",
    "\n",
    "# Récupérer un champ spécifique d'un Hash\n",
    "print(f\"Initial title: {r.hget('movie:1', 'title')})\")\n",
    "\n",
    "# Modifier un champ spécifique d'un Hash\n",
    "r.hset('movie:1', 'title', 'Toy Story')\n",
    "\n",
    "print(f\"Title after modification: {r.hget('movie:1', 'title')}\")"
   ]
  },
  {
   "cell_type": "code",
   "execution_count": null,
   "metadata": {},
   "outputs": [],
   "source": [
    "# Vérifier si la clé existe\n",
    "print(f\"Key exists: {r.exists('movie:6000') == 1}\")\n",
    "\n",
    "# Ajouter une donnée à la db\n",
    "r.hset('movie:6000', 'title', 'Inception')\n",
    "\n",
    "r.hgetall('movie:6000')"
   ]
  },
  {
   "cell_type": "code",
   "execution_count": null,
   "metadata": {},
   "outputs": [],
   "source": [
    "# HSET permet aussi de créer / modifier une clé avec plusieurs valeurs en une seule commande\n",
    "\n",
    "r.hset('movie:6001', mapping={'title': 'Gladiator', 'genre': 'Action', 'year': 2000})\n",
    "\n",
    "r.hgetall('movie:6001')"
   ]
  },
  {
   "cell_type": "markdown",
   "metadata": {},
   "source": [
    "## 5. Supprimer des données"
   ]
  }
 ],
 "metadata": {
  "kernelspec": {
   "display_name": "Python 3 (ipykernel)",
   "language": "python",
   "name": "python3"
  },
  "language_info": {
   "codemirror_mode": {
    "name": "ipython",
    "version": 3
   },
   "file_extension": ".py",
   "mimetype": "text/x-python",
   "name": "python",
   "nbconvert_exporter": "python",
   "pygments_lexer": "ipython3",
   "version": "3.12.9"
  }
 },
 "nbformat": 4,
 "nbformat_minor": 4
}
