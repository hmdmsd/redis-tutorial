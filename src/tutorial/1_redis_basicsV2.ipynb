{
 "cells": [
  {
   "cell_type": "markdown",
   "metadata": {},
   "source": [
    "# Redis Basics Tutorial\n",
    "\n",
    "Introduction aux bases de Redis avec notre dataset de films."
   ]
  },
  {
   "cell_type": "markdown",
   "metadata": {},
   "source": [
    "## 1. Connexion à Redis"
   ]
  },
  {
   "cell_type": "code",
   "execution_count": 1,
   "metadata": {},
   "outputs": [
    {
     "name": "stdout",
     "output_type": "stream",
     "text": [
      "Connection test: True\n"
     ]
    }
   ],
   "source": [
    "import sys\n",
    "sys.path.append('/home/jovyan/work')\n",
    "\n",
    "from pprint import pprint\n",
    "\n",
    "import redis\n",
    "\n",
    "# Connexion à Redis via un client Redis\n",
    "r = redis.Redis(host='redis', port=6379, db=0)\n",
    "\n",
    "# Tester la connexion\n",
    "print(\"Connection test:\", r.ping())"
   ]
  },
  {
   "cell_type": "markdown",
   "metadata": {},
   "source": [
    "## 2. Exploration globale de la db"
   ]
  },
  {
   "cell_type": "code",
   "execution_count": 2,
   "metadata": {},
   "outputs": [
    {
     "name": "stdout",
     "output_type": "stream",
     "text": [
      "Nombre total de clés dans Redis: 8354\n"
     ]
    }
   ],
   "source": [
    "num_keys = r.dbsize()\n",
    "print(f\"Nombre total de clés dans Redis: {num_keys}\")"
   ]
  },
  {
   "cell_type": "markdown",
   "metadata": {},
   "source": [
    "Comme la base de donnée contient un nombre raisonnable de clés, on peut récupérer toutes les clés et les parcourir rapidement."
   ]
  },
  {
   "cell_type": "code",
   "execution_count": 3,
   "metadata": {},
   "outputs": [
    {
     "name": "stdout",
     "output_type": "stream",
     "text": [
      "Types d'objets dans Redis: {'actor', 'theater', 'movie', 'user'}\n"
     ]
    }
   ],
   "source": [
    "# Récupérer le type d'objet dans notre base de données\n",
    "\n",
    "keys = r.keys('*')  # Récupérer toutes les clés\n",
    "prefixes = set(key.decode('utf-8').split(':')[0] for key in keys)\n",
    "print(\"Types d'objets dans Redis:\", prefixes)"
   ]
  },
  {
   "cell_type": "code",
   "execution_count": 4,
   "metadata": {},
   "outputs": [
    {
     "name": "stdout",
     "output_type": "stream",
     "text": [
      "Nombre d'objets par catégorie: {'actor': 1319, 'theater': 117, 'movie': 922, 'user': 5996}\n"
     ]
    }
   ],
   "source": [
    "# Récupérer le nombre d'objets par catégorie\n",
    "\n",
    "category_counts = {prefix: 0 for prefix in prefixes}\n",
    "\n",
    "for key in keys:\n",
    "    category = key.decode('utf-8').split(':')[0]\n",
    "    category_counts[category] += 1\n",
    "\n",
    "print(\"Nombre d'objets par catégorie:\", category_counts)"
   ]
  },
  {
   "cell_type": "markdown",
   "metadata": {},
   "source": [
    "Vérifier le type des clés"
   ]
  },
  {
   "cell_type": "code",
   "execution_count": 6,
   "metadata": {},
   "outputs": [
    {
     "data": {
      "text/plain": [
       "[b'user:4521',\n",
       " b'user:3843',\n",
       " b'user:3307',\n",
       " b'user:5795',\n",
       " b'user:697',\n",
       " b'movie:192',\n",
       " b'user:5494',\n",
       " b'user:3739',\n",
       " b'actor:463',\n",
       " b'user:499']"
      ]
     },
     "execution_count": 6,
     "metadata": {},
     "output_type": "execute_result"
    }
   ],
   "source": [
    "# Récupérer les 10 premières clés\n",
    "\n",
    "r.keys('*')[:10]"
   ]
  },
  {
   "cell_type": "code",
   "execution_count": 8,
   "metadata": {},
   "outputs": [
    {
     "name": "stdout",
     "output_type": "stream",
     "text": [
      "Type de la clé: b'hash'\n"
     ]
    }
   ],
   "source": [
    "# Pour connaître le type des clés dans la base de données \n",
    "\n",
    "key_type = r.type('user:1421')  # Vérifie le type de la clé\n",
    "print(\"Type de la clé:\", key_type)"
   ]
  },
  {
   "cell_type": "markdown",
   "metadata": {},
   "source": [
    "## 3. Récupérer des données"
   ]
  },
  {
   "cell_type": "markdown",
   "metadata": {},
   "source": [
    "### Selon le type de la clé on choisit la bonne commande \n",
    "Pour un Hash, utilisez HGET ou HGETALL.\n",
    "Pour une Liste, utilisez LRANGE ou LPOP.\n",
    "Pour un Set, utilisez SMEMBERS.\n",
    "Pour un Sorted Set, utilisez ZRANGE. "
   ]
  },
  {
   "cell_type": "code",
   "execution_count": 9,
   "metadata": {},
   "outputs": [
    {
     "data": {
      "text/plain": [
       "True"
      ]
     },
     "execution_count": 9,
     "metadata": {},
     "output_type": "execute_result"
    }
   ],
   "source": [
    "# Vérifier si la clé existe\n",
    "\n",
    "r.exists('movie:1') == 1  # Renvoie 1 si la clé existe, 0 sinon"
   ]
  },
  {
   "cell_type": "code",
   "execution_count": 10,
   "metadata": {},
   "outputs": [
    {
     "data": {
      "text/plain": [
       "b'Guardians of the Galaxy'"
      ]
     },
     "execution_count": 10,
     "metadata": {},
     "output_type": "execute_result"
    }
   ],
   "source": [
    "# Récupérer un champ spécifique d'un Hash\n",
    "\n",
    "r.hget('movie:1', 'title')"
   ]
  },
  {
   "cell_type": "code",
   "execution_count": 11,
   "metadata": {},
   "outputs": [
    {
     "data": {
      "text/plain": [
       "[b'Guardians of the Galaxy', b'Action']"
      ]
     },
     "execution_count": 11,
     "metadata": {},
     "output_type": "execute_result"
    }
   ],
   "source": [
    "# Récupérer plusieurs champs d'un Hash\n",
    "\n",
    "r.hmget('movie:1', ['title', 'genre'])"
   ]
  },
  {
   "cell_type": "code",
   "execution_count": 12,
   "metadata": {},
   "outputs": [
    {
     "data": {
      "text/plain": [
       "{b'genre': b'Action',\n",
       " b'title': b'Guardians of the Galaxy',\n",
       " b'ibmdb_id': b'tt2015381',\n",
       " b'rating': b'8.1',\n",
       " b'poster': b'https://m.media-amazon.com/images/M/MV5BMTAwMjU5OTgxNjZeQTJeQWpwZ15BbWU4MDUxNDYxODEx._V1_SX300.jpg',\n",
       " b'votes': b'704613',\n",
       " b'release_year': b'2014',\n",
       " b'plot': b'A group of intergalactic criminals must pull together to stop a fanatical warrior with plans to purge the universe.'}"
      ]
     },
     "execution_count": 12,
     "metadata": {},
     "output_type": "execute_result"
    }
   ],
   "source": [
    "# Récupérer tous les champs d'un Hash\n",
    "\n",
    "r.hgetall('movie:1')"
   ]
  },
  {
   "cell_type": "markdown",
   "metadata": {},
   "source": [
    "## 4. Ajouter et modifier des données\n",
    "\n",
    "HSET permet de:\n",
    "- ajouter une donnée (clé - valeur) à la db si la clé spécifiée n'existe pas\n",
    "- modifier une donnée si la clé spécifiée existe\n",
    "\n",
    "HSET renvoie 1 si une donnée a été créée, 0 si une donnée a été modifié"
   ]
  },
  {
   "cell_type": "code",
   "execution_count": null,
   "metadata": {},
   "outputs": [
    {
     "name": "stdout",
     "output_type": "stream",
     "text": [
      "Key exists: True\n",
      "Initial title: b'Toy Story'\n",
      "Title after modification: b'Toy Story'\n"
     ]
    }
   ],
   "source": [
    "# Vérifier si la clé existe\n",
    "print(f\"Key exists: {r.exists('movie:1') == 1}\")\n",
    "\n",
    "# Récupérer un champ spécifique d'un Hash\n",
    "print(f\"Initial title: {r.hget('movie:1', 'title')}\")\n",
    "\n",
    "# Modifier un champ spécifique d'un Hash\n",
    "r.hset('movie:1', 'title', 'The Shawshank Redemption')\n",
    "\n",
    "print(f\"Title after modification: {r.hget('movie:1', 'title')}\")"
   ]
  },
  {
   "cell_type": "code",
   "execution_count": null,
   "metadata": {},
   "outputs": [
    {
     "name": "stdout",
     "output_type": "stream",
     "text": [
      "Key exists: False\n"
     ]
    },
    {
     "data": {
      "text/plain": [
       "{b'title': b'Inception'}"
      ]
     },
     "execution_count": 15,
     "metadata": {},
     "output_type": "execute_result"
    }
   ],
   "source": [
    "# Vérifier si la clé existe\n",
    "print(f\"Key exists: {r.exists('movie:6002') == 1}\")\n",
    "\n",
    "# Ajouter une donnée à la db\n",
    "r.hset('movie:6002', 'title', 'Inception')\n",
    "\n",
    "r.hgetall('movie:6002')"
   ]
  },
  {
   "cell_type": "code",
   "execution_count": 17,
   "metadata": {},
   "outputs": [
    {
     "data": {
      "text/plain": [
       "{b'title': b'Gladiator', b'genre': b'Action', b'year': b'2000'}"
      ]
     },
     "execution_count": 17,
     "metadata": {},
     "output_type": "execute_result"
    }
   ],
   "source": [
    "# HSET permet aussi de créer / modifier une clé avec plusieurs valeurs en une seule commande\n",
    "\n",
    "r.hset('movie:6001', mapping={'title': 'Gladiator', 'genre': 'Action', 'year': 2000})\n",
    "\n",
    "r.hgetall('movie:6001')"
   ]
  },
  {
   "cell_type": "markdown",
   "metadata": {},
   "source": [
    "## 5. Suppression et expiration des données"
   ]
  },
  {
   "cell_type": "code",
   "execution_count": null,
   "metadata": {},
   "outputs": [
    {
     "name": "stdout",
     "output_type": "stream",
     "text": [
      "Avant suppression:\n",
      "{b'age': b'28', b'city': b'Marseille', b'name': b'Charles '}\n",
      "après suppression du champ age:\n",
      "{b'city': b'Marseille', b'name': b'Charles '}\n",
      "Après suppression du user:\n",
      "{}\n"
     ]
    }
   ],
   "source": [
    "### Suppression de données \n",
    "\n",
    "r.hset(\"user:2002\", mapping={\"name\": \"Charles \", \"age\": \"28\", \"city\": \"Marseille\"})\n",
    "\n",
    "print(\"Avant suppression:\")\n",
    "pprint(r.hgetall(\"user:2002\"))\n",
    "r.hdel('user:2002', 'age')\n",
    "\n",
    "print('Après suppression du champ age:')\n",
    "pprint(r.hgetall(\"user:2002\"))\n",
    "\n",
    "r.delete(\"user:2002\")\n",
    "\n",
    "print(\"Après suppression du user:\")\n",
    "pprint(r.hgetall(\"user:2002\"))  "
   ]
  },
  {
   "cell_type": "code",
   "execution_count": 22,
   "metadata": {},
   "outputs": [
    {
     "name": "stdout",
     "output_type": "stream",
     "text": [
      "Avant expiration:\n",
      "{b'age': b'25', b'city': b'Lyon', b'name': b'Bob'}\n",
      "Après expiration:\n",
      "{}\n"
     ]
    }
   ],
   "source": [
    "### Expiration d'une clé \n",
    "\n",
    "import time \n",
    "\n",
    "# Ajouter des données\n",
    "r.hset(\"user:2001\", mapping={\"name\": \"Bob\", \"age\": \"25\", \"city\": \"Lyon\"})\n",
    "\n",
    "r.expire(\"user:2001\", 5)\n",
    "\n",
    "print(\"Avant expiration:\")\n",
    "pprint(r.hgetall(\"user:2001\"))\n",
    "\n",
    "time.sleep(6)\n",
    "\n",
    "print(\"Après expiration:\")\n",
    "pprint(r.hgetall(\"user:2001\"))"
   ]
  },
  {
   "cell_type": "markdown",
   "metadata": {},
   "source": [
    "## 6. Pipeline"
   ]
  },
  {
   "cell_type": "code",
   "execution_count": null,
   "metadata": {},
   "outputs": [
    {
     "name": "stdout",
     "output_type": "stream",
     "text": [
      "[0, 0, 3]\n"
     ]
    },
    {
     "data": {
      "text/plain": [
       "[b'Alice', b'40']"
      ]
     },
     "execution_count": 25,
     "metadata": {},
     "output_type": "execute_result"
    }
   ],
   "source": [
    "# Utiliser un pipeline pour exécuter plusieurs commandes en même temps\n",
    "\n",
    "pipe = r.pipeline()\n",
    "\n",
    "pipe.hset('user:2572', \"name\", \"Alice\")\n",
    "pipe.hset('user:2572', \"age\", 40)\n",
    "pipe.hincrby('user:2572', \"login_count\", 1)\n",
    "results = pipe.execute()\n",
    "\n",
    "print(results)  \n",
    "r.hmget('user:2572', ['name', 'age'])"
   ]
  }
 ],
 "metadata": {
  "kernelspec": {
   "display_name": "Python 3 (ipykernel)",
   "language": "python",
   "name": "python3"
  },
  "language_info": {
   "codemirror_mode": {
    "name": "ipython",
    "version": 3
   },
   "file_extension": ".py",
   "mimetype": "text/x-python",
   "name": "python",
   "nbconvert_exporter": "python",
   "pygments_lexer": "ipython3",
   "version": "3.12.9"
  }
 },
 "nbformat": 4,
 "nbformat_minor": 4
}
