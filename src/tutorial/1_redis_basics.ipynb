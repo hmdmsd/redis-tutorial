{
 "cells": [
  {
   "cell_type": "markdown",
   "metadata": {},
   "source": [
    "# Redis Basics Tutorial\n",
    "\n",
    "Introduction aux bases de Redis avec notre dataset de films."
   ]
  },
  {
   "cell_type": "code",
   "execution_count": 9,
   "metadata": {},
   "outputs": [
    {
     "name": "stdout",
     "output_type": "stream",
     "text": [
      "Connection test: True\n",
      "\n",
      "Movie details: {'title': 'Guardians of the Galaxy', 'votes': '704613', 'genre': 'Action', 'plot': 'A group of intergalactic criminals must pull together to stop a fanatical warrior with plans to purge the universe.', 'release_year': '2014', 'rating': '8.1', 'poster': 'https://m.media-amazon.com/images/M/MV5BMTAwMjU5OTgxNjZeQTJeQWpwZ15BbWU4MDUxNDYxODEx._V1_SX300.jpg', 'ibmdb_id': 'tt2015381'}\n"
     ]
    }
   ],
   "source": [
    "import sys\n",
    "sys.path.append('/home/jovyan/work')\n",
    "\n",
    "from utils.redis_client import RedisClient\n",
    "\n",
    "# Initialiser la connexion\n",
    "r = RedisClient(host='redis')\n",
    "\n",
    "# Tester la connexion\n",
    "print(\"Connection test:\", r.ping())\n",
    "\n",
    "# Récupérer un film\n",
    "movie = r.get_movie(1)\n",
    "print(\"\\nMovie details:\", movie)"
   ]
  },
  {
   "cell_type": "code",
   "execution_count": 7,
   "metadata": {},
   "outputs": [],
   "source": [
    "import redis"
   ]
  },
  {
   "cell_type": "code",
   "execution_count": 26,
   "metadata": {},
   "outputs": [
    {
     "name": "stdout",
     "output_type": "stream",
     "text": [
      "Type of 'user:2572': hash\n"
     ]
    }
   ],
   "source": [
    "# Pour connaître le type des clés dans la base de données \n",
    "key_type = r.client.type('user:2572')  # Vérifie le type de la clé\n",
    "print(\"Type of 'user:2572':\", key_type)\n"
   ]
  },
  {
   "cell_type": "code",
   "execution_count": 25,
   "metadata": {},
   "outputs": [
    {
     "name": "stdout",
     "output_type": "stream",
     "text": [
      "{'city': 'Hwacheon',\n",
      " 'country': 'South-Korea',\n",
      " 'country_code': 'KR',\n",
      " 'email': 'dgallopfv@yelp.com',\n",
      " 'first_name': 'Dew',\n",
      " 'gender': 'Male',\n",
      " 'ip_address': '41.121.156.99',\n",
      " 'last_login': '1588788451',\n",
      " 'last_name': 'Gallop',\n",
      " 'location': '127.7080492,38.1056484'}\n"
     ]
    }
   ],
   "source": [
    "# Selon le type de la clé on choisit la bonne commande \n",
    "#Pour un Hash, utilisez HGET ou HGETALL.\n",
    "#Pour une Liste, utilisez LRANGE ou LPOP.\n",
    "#Pour un Set, utilisez SMEMBERS.\n",
    "#Pour un Sorted Set, utilisez ZRANGE. \n",
    "\n",
    "user_data = r.client.hgetall('user:2572')  # Récupère tous les champs du Hash\n",
    "print(\"User Data for 'user:2572':\", )\n",
    "pprint({k: v for k, v in user_data.items()})\n",
    "#####",
    "r.client.hget('movie:1', 'title')"],
     "data": {
      "text/plain": [
       "'Guardians of the Galaxy'"
      ]
     },
     "output_type": "execute_result"
    },
   
  {
   "cell_type": "code",
   "execution_count": null,
   "metadata": {},
   "outputs": [
    {
     "data": {
      "text/plain": [
       "['Guardians of the Galaxy', 'Action']"
      ]
     },
     "execution_count": 21,
     "metadata": {},
     "output_type": "execute_result"
    }
   ],
   "source": [
    "r.client.hmget('movie:1', ['title', 'genre'])"
   ]
  },
  {
   "cell_type": "code",
   "execution_count": 27,
   "metadata": {},
   "outputs": [
    {
     "name": "stdout",
     "output_type": "stream",
     "text": [
      "Does 'user:2572' exist? 1\n"
     ]
    }
   ],
   "source": [
    "# Vérifier si une clé existe\n",
    "exists = r.client.exists('user:2572')\n",
    "if exists == 1 :\n",
    "    print(\"Does 'user:2572' exist?\", \"true\")\n",
    "else :\n",
    "    print(\"Does 'user:2572' exist?\", \"false\")\n",
    "\n",
   "r.client.hset('movie:1', 'title', 'New Title')"],
     "data": {
      "text/plain": [
       "0"
      ]
     },
     "output_type": "execute_result"
    },
  {
   "cell_type": "code",
   "execution_count": 28,
   "metadata": {},
   "outputs": [
    {
     "data": {
      "text/plain": [
       "['New Title', 'Action']"
      ]
     },
     "execution_count": 28,
     "metadata": {},
     "output_type": "execute_result"
    }
   ],
   "source": [
    "r.client.hmget('movie:1', ['title', 'genre'])"
   ]
  },
  {
   "cell_type": "code",
   "execution_count": null,
   "metadata": {},
   "outputs": [],
   "source": [
    "#pool = redis.ConnectionPool(host='localhost', port=6379, db=0)\n",
    "#r = redis.Redis(connection_pool=pool)\n",
    "\n",
    "\n",
    "\n",
    "#------------\n",
    "# syntax : delete keys\n",
    "r.delete('key')\n",
    "r.delete('key1', 'key2', 'key3')\n",
    "\n",
    "\n",
    "# set expiry to key\n",
    "expireInSeconds = 30\n",
    "r.expire('key', expireInSeconds)\n",
    "\n",
    "#------------\n",
    "# remove expiry from key\n",
    "r.persist('key')\n",
    "\n",
    "#------------\n",
    "# find (remaining) time to live of a key\n",
    "r.ttl('key')\n",
    "\n",
    "\n",
    "#------------\n",
    "# use the method below to execute commands directly\n",
    "r.execute_command('SET', 'key', 'value')"
   ]
  }
 ],
 "metadata": {
  "kernelspec": {
   "display_name": "Python 3 (ipykernel)",
   "language": "python",
   "name": "python3"
  },
  "language_info": {
   "codemirror_mode": {
    "name": "ipython",
    "version": 3
   },
   "file_extension": ".py",
   "mimetype": "text/x-python",
   "name": "python",
   "nbconvert_exporter": "python",
   "pygments_lexer": "ipython3",
   "version": "3.12.8"
  }
 },
 "nbformat": 4,
 "nbformat_minor": 4
}
