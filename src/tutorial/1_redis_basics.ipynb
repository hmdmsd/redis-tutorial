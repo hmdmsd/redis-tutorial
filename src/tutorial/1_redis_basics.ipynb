{
 "cells": [
  {
   "cell_type": "markdown",
   "metadata": {},
   "source": [
    "# Redis Basics Tutorial\n",
    "\n",
    "Introduction aux bases de Redis avec notre dataset de films."
   ]
  },
  {
   "cell_type": "code",
   "execution_count": null,
   "metadata": {},
   "source": [
    "from utils.redis_client import RedisClient\n",
    "\n",
    "# Initialiser la connexion\n",
    "client = RedisClient()\n",
    "\n",
    "# Tester la connexion\n",
    "print(\"Connection test:\", client.ping())\n",
    "\n",
    "# Récupérer un film\n",
    "movie = client.get_movie(1)\n",
    "print(\"\\nMovie details:\", movie)"
   ]
  }
 ],
 "metadata": {
  "kernelspec": {
   "display_name": "Python 3",
   "language": "python",
   "name": "python3"
  }
 },
 "nbformat": 4,
 "nbformat_minor": 4
}