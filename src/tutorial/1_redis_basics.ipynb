{
 "cells": [
  {
   "cell_type": "markdown",
   "metadata": {},
   "source": [
    "# Redis Basics Tutorial\n",
    "\n",
    "Introduction aux bases de Redis avec notre dataset de films."
   ]
  },
  {
   "cell_type": "code",
   "execution_count": 1,
   "metadata": {},
   "outputs": [
    {
     "name": "stdout",
     "output_type": "stream",
     "text": [
      "Connection test: True\n",
      "\n",
      "Movie details: {'rating': '8.1', 'plot': 'A group of intergalactic criminals must pull together to stop a fanatical warrior with plans to purge the universe.', 'votes': '704613', 'genre': 'Action', 'ibmdb_id': 'tt2015381', 'release_year': '2014', 'poster': 'https://m.media-amazon.com/images/M/MV5BMTAwMjU5OTgxNjZeQTJeQWpwZ15BbWU4MDUxNDYxODEx._V1_SX300.jpg', 'title': 'Guardians of the Galaxy'}\n"
     ]
    }
   ],
   "source": [
    "import sys\n",
    "sys.path.append('/home/jovyan/work')\n",
    "\n",
    "from utils.redis_client import RedisClient\n",
    "\n",
    "# Initialiser la connexion\n",
    "client = RedisClient(host='redis')\n",
    "\n",
    "# Tester la connexion\n",
    "print(\"Connection test:\", client.ping())\n",
    "\n",
    "# Récupérer un film\n",
    "movie = client.get_movie(1)\n",
    "print(\"\\nMovie details:\", movie)"
   ]
  }
 ],
 "metadata": {
  "kernelspec": {
   "display_name": "Python 3 (ipykernel)",
   "language": "python",
   "name": "python3"
  },
  "language_info": {
   "codemirror_mode": {
    "name": "ipython",
    "version": 3
   },
   "file_extension": ".py",
   "mimetype": "text/x-python",
   "name": "python",
   "nbconvert_exporter": "python",
   "pygments_lexer": "ipython3",
   "version": "3.12.8"
  }
 },
 "nbformat": 4,
 "nbformat_minor": 4
}
