{
 "cells": [
  {
   "cell_type": "markdown",
   "metadata": {},
   "source": [
    "# Redis Advanced Features\n",
    "\n",
    "Utilisation des fonctionnalités avancées de Redis (RediSearch, etc.)"
   ]
  },
  {
   "cell_type": "code",
   "execution_count": null,
   "metadata": {},
   "source": [
    "from utils.redis_client import RedisClient\n",
    "\n",
    "client = RedisClient()\n",
    "\n",
    "# Recherche de films par genre\n",
    "action_movies = client.search_movies(\"@genre:{Action}\")\n",
    "print(\"Action movies:\", action_movies)"
   ]
  }
 ],
 "metadata": {
  "kernelspec": {
   "display_name": "Python 3",
   "language": "python",
   "name": "python3"
  }
 },
 "nbformat": 4,
 "nbformat_minor": 4
}