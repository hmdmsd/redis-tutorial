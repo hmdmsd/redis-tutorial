{
 "cells": [
  {
   "cell_type": "markdown",
   "metadata": {},
   "source": [
    "# Data Visualization\n",
    "\n",
    "Visualisation des données du dataset films avec matplotlib"
   ]
  },
  {
   "cell_type": "code",
   "execution_count": null,
   "metadata": {},
   "source": [
    "from utils.redis_client import RedisClient\n",
    "from utils.visualizer import RedisVisualizer\n",
    "\n",
    "client = RedisClient()\n",
    "viz = RedisVisualizer(client)\n",
    "\n",
    "# Afficher la distribution des notes\n",
    "viz.plot_ratings_distribution()"
   ]
  }
 ],
 "metadata": {
  "kernelspec": {
   "display_name": "Python 3",
   "language": "python",
   "name": "python3"
  }
 },
 "nbformat": 4,
 "nbformat_minor": 4
}